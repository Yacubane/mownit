{
 "cells": [
  {
   "cell_type": "code",
   "execution_count": 29,
   "metadata": {},
   "outputs": [
    {
     "name": "stdout",
     "output_type": "stream",
     "text": [
      "\u001b[32m\u001b[1m Resolving\u001b[22m\u001b[39m package versions...\n"
     ]
    },
    {
     "data": {
      "text/plain": [
       "\"Roots of legendre \""
      ]
     },
     "metadata": {},
     "output_type": "display_data"
    },
    {
     "data": {
      "text/plain": [
       "2"
      ]
     },
     "metadata": {},
     "output_type": "display_data"
    },
    {
     "data": {
      "text/plain": [
       "2-element Array{Float64,1}:\n",
       " -0.5773502691896258\n",
       "  0.5773502691896258"
      ]
     },
     "metadata": {},
     "output_type": "display_data"
    },
    {
     "data": {
      "text/plain": [
       "2-element Array{Float64,1}:\n",
       " -0.6324555320336759\n",
       "  0.6324555320336758"
      ]
     },
     "metadata": {},
     "output_type": "display_data"
    },
    {
     "data": {
      "text/plain": [
       "\"Roots of legendre \""
      ]
     },
     "metadata": {},
     "output_type": "display_data"
    },
    {
     "data": {
      "text/plain": [
       "3"
      ]
     },
     "metadata": {},
     "output_type": "display_data"
    },
    {
     "data": {
      "text/plain": [
       "3-element Array{Float64,1}:\n",
       " -0.7745966692414834\n",
       "  0.0               \n",
       "  0.7745966692414834"
      ]
     },
     "metadata": {},
     "output_type": "display_data"
    },
    {
     "data": {
      "text/plain": [
       "3-element Array{Float64,1}:\n",
       " -0.8106434833777775\n",
       "  0.8106434833777775\n",
       "  0.0               "
      ]
     },
     "metadata": {},
     "output_type": "display_data"
    },
    {
     "data": {
      "text/plain": [
       "\"Roots of legendre \""
      ]
     },
     "metadata": {},
     "output_type": "display_data"
    },
    {
     "data": {
      "text/plain": [
       "4"
      ]
     },
     "metadata": {},
     "output_type": "display_data"
    },
    {
     "data": {
      "text/plain": [
       "4-element Array{Float64,1}:\n",
       " -0.8611363115940526\n",
       " -0.3399810435848563\n",
       "  0.3399810435848563\n",
       "  0.8611363115940526"
      ]
     },
     "metadata": {},
     "output_type": "display_data"
    },
    {
     "data": {
      "text/plain": [
       "4-element Array{Float64,1}:\n",
       " -0.8837676634191399 \n",
       "  0.883767663419141  \n",
       " -0.3606464032896806 \n",
       "  0.36064640328968073"
      ]
     },
     "metadata": {},
     "output_type": "display_data"
    },
    {
     "name": "stdout",
     "output_type": "stream",
     "text": [
      "\u001b[32m\u001b[1m  Updating\u001b[22m\u001b[39m `~/.julia/environments/v1.1/Project.toml`\n",
      "\u001b[90m [no changes]\u001b[39m\n",
      "\u001b[32m\u001b[1m  Updating\u001b[22m\u001b[39m `~/.julia/environments/v1.1/Manifest.toml`\n",
      "\u001b[90m [no changes]\u001b[39m\n"
     ]
    }
   ],
   "source": [
    "using Pkg, Plots\n",
    "Pkg.add(\"QuadGK\")\n",
    "\n",
    "using QuadGK\n",
    "using Polynomials\n",
    "\n",
    "(xp,a)=gauss(Float64,7)\n",
    "\n",
    "function legendre(k)\n",
    "    if k == 0\n",
    "        return Poly([1])\n",
    "    end\n",
    "    if k == 1\n",
    "        return Poly([0, 1])\n",
    "    end\n",
    "    return (2*k)/(k) * Poly([0, 1]) * legendre(k-1) - ((k-1)/(k) * legendre(k-2))\n",
    "end\n",
    "    \n",
    "x = -1:0.05:1\n",
    "plot_ = plot(x, polyval(legendre(0), x), label=\"0\")\n",
    "for i in 1:6\n",
    "    plot!(x, polyval(legendre(i), x), label=string(i))\n",
    "end\n",
    "plot_\n",
    "\n",
    "for i in 2:4\n",
    "    display(\"Roots of legendre \")\n",
    "    display(i)\n",
    "    (xp,a)=gauss(Float64,i)\n",
    "    display(xp)\n",
    "    display(roots(legendre(i)))\n",
    "end\n"
   ]
  }
 ],
 "metadata": {
  "kernelspec": {
   "display_name": "Julia 1.1.0",
   "language": "julia",
   "name": "julia-1.1"
  },
  "language_info": {
   "file_extension": ".jl",
   "mimetype": "application/julia",
   "name": "julia",
   "version": "1.1.0"
  }
 },
 "nbformat": 4,
 "nbformat_minor": 2
}
